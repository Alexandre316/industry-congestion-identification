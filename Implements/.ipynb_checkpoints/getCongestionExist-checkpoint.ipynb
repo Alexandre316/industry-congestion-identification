{
 "cells": [
  {
   "cell_type": "code",
   "execution_count": 1,
   "id": "2fcb9dc8",
   "metadata": {
    "ExecuteTime": {
     "end_time": "2022-05-06T00:32:20.858948Z",
     "start_time": "2022-05-06T00:32:17.521605Z"
    }
   },
   "outputs": [],
   "source": [
    "import pandas as pd\n",
    "import numpy as np\n",
    "from dataclasses import dataclass\n",
    "import matplotlib\n",
    "import matplotlib.pyplot as plt\n",
    "from scipy.stats import spearmanr, pearsonr"
   ]
  },
  {
   "cell_type": "code",
   "execution_count": 2,
   "id": "60f14ad9",
   "metadata": {
    "ExecuteTime": {
     "end_time": "2022-05-06T00:32:20.874909Z",
     "start_time": "2022-05-06T00:32:20.862781Z"
    }
   },
   "outputs": [],
   "source": [
    "import os\n",
    "os.chdir('../')"
   ]
  },
  {
   "cell_type": "markdown",
   "id": "c6a97ba2",
   "metadata": {},
   "source": [
    "#### 1.数据读取"
   ]
  },
  {
   "cell_type": "code",
   "execution_count": 3,
   "id": "73965e07",
   "metadata": {
    "ExecuteTime": {
     "end_time": "2022-05-06T00:32:28.098855Z",
     "start_time": "2022-05-06T00:32:20.876820Z"
    }
   },
   "outputs": [],
   "source": [
    "CITICIndustryIndexClose = pd.read_excel(\"./Data/CITICIndustryIndexClose.xlsx\",index_col = 0)\n",
    "CITICIndustryIndexTurnover = pd.read_excel(\"./Data/CITICIndustryIndexTurnover.xlsx\",index_col = 0)\n",
    "CITICIndustryIndexVolume = pd.read_excel(\"./Data/CITICIndustryIndexVolume.xlsx\",index_col = 0)\n",
    "CITICIndustryIndexAmount = pd.read_excel(\"./Data/CITICIndustryIndexAmount.xlsx\",index_col = 0)"
   ]
  },
  {
   "cell_type": "code",
   "execution_count": 4,
   "id": "1b9a91b0",
   "metadata": {
    "ExecuteTime": {
     "end_time": "2022-05-06T00:32:28.130333Z",
     "start_time": "2022-05-06T00:32:28.101963Z"
    }
   },
   "outputs": [],
   "source": [
    "CITICIndustryIndexClose.index = pd.to_datetime(CITICIndustryIndexClose.index)\n",
    "CITICIndustryIndexTurnover.index = pd.to_datetime(CITICIndustryIndexTurnover.index)\n",
    "CITICIndustryIndexVolume.index = pd.to_datetime(CITICIndustryIndexVolume.index)\n",
    "CITICIndustryIndexAmount.index = pd.to_datetime(CITICIndustryIndexAmount.index)"
   ]
  },
  {
   "cell_type": "code",
   "execution_count": 5,
   "id": "bc798497",
   "metadata": {
    "ExecuteTime": {
     "end_time": "2022-05-06T00:32:28.146426Z",
     "start_time": "2022-05-06T00:32:28.133088Z"
    }
   },
   "outputs": [],
   "source": [
    "CITICIndustryIndexClose.ffill(axis = 0,inplace = True)\n",
    "CITICIndustryIndexAmount.fillna(0,inplace = True)"
   ]
  },
  {
   "cell_type": "code",
   "execution_count": 6,
   "id": "53e8866b",
   "metadata": {
    "ExecuteTime": {
     "end_time": "2022-05-06T00:32:28.161590Z",
     "start_time": "2022-05-06T00:32:28.149441Z"
    }
   },
   "outputs": [],
   "source": [
    "start_date = pd.to_datetime(\"2013-12-31\")\n",
    "end_date = pd.to_datetime(\"2022-04-15\")"
   ]
  },
  {
   "cell_type": "code",
   "execution_count": 7,
   "id": "b09ce797",
   "metadata": {
    "ExecuteTime": {
     "end_time": "2022-05-06T00:32:28.177562Z",
     "start_time": "2022-05-06T00:32:28.164430Z"
    }
   },
   "outputs": [],
   "source": [
    "CITICIndustryIndexClose = CITICIndustryIndexClose.loc[start_date:end_date] # 如果考察2013年之前，那么情况就完全反转\n",
    "CITICIndustryIndexAmount = CITICIndustryIndexAmount.loc[start_date:end_date] # 如果考察2013年之前，那么情况就完全反转"
   ]
  },
  {
   "cell_type": "markdown",
   "id": "bebfc8d9",
   "metadata": {},
   "source": [
    "#### 2.价格拥挤"
   ]
  },
  {
   "cell_type": "code",
   "execution_count": 8,
   "id": "30ffa90d",
   "metadata": {
    "ExecuteTime": {
     "end_time": "2022-05-06T00:32:28.193561Z",
     "start_time": "2022-05-06T00:32:28.180430Z"
    }
   },
   "outputs": [],
   "source": [
    "price_group_1:list = [] # >0%\n",
    "price_group_2:list = [] # >5%\n",
    "price_group_3:list = [] \n",
    "price_group_4:list = []\n",
    "price_group_5:list = []\n",
    "price_group_6:list = []\n",
    "price_group_7:list = []\n",
    "price_group_8:list = []\n",
    "price_group_9:list = []\n",
    "price_group_10:list = []\n",
    "price_group_11:list = [] # >50%"
   ]
  },
  {
   "cell_type": "code",
   "execution_count": 9,
   "id": "16898910",
   "metadata": {
    "ExecuteTime": {
     "end_time": "2022-05-06T00:33:11.340072Z",
     "start_time": "2022-05-06T00:32:28.195427Z"
    }
   },
   "outputs": [
    {
     "name": "stdout",
     "output_type": "stream",
     "text": [
      "processing CI005001.WI\n",
      "processing CI005002.WI\n",
      "processing CI005004.WI\n",
      "processing CI005008.WI\n",
      "processing CI005010.WI\n",
      "processing CI005009.WI\n",
      "processing CI005007.WI\n",
      "processing CI005006.WI\n",
      "processing CI005005.WI\n",
      "processing CI005003.WI\n",
      "processing CI005027.WI\n",
      "processing CI005028.WI\n",
      "processing CI005026.WI\n",
      "processing CI005025.WI\n",
      "processing CI005024.WI\n",
      "processing CI005023.WI\n",
      "processing CI005021.WI\n",
      "processing CI005020.WI\n",
      "processing CI005019.WI\n",
      "processing CI005018.WI\n",
      "processing CI005017.WI\n",
      "processing CI005016.WI\n",
      "processing CI005015.WI\n",
      "processing CI005014.WI\n",
      "processing CI005013.WI\n",
      "processing CI005012.WI\n",
      "processing CI005011.WI\n",
      "processing CI005259.WI\n",
      "processing CI005166.WI\n",
      "processing CI005165.WI\n"
     ]
    }
   ],
   "source": [
    "# price\n",
    "for industry in CITICIndustryIndexClose.columns:\n",
    "    print(f\"processing {industry}\")\n",
    "    for date in CITICIndustryIndexClose.index:\n",
    "        before_close = CITICIndustryIndexClose.loc[:date,industry].iloc[-60:].dropna()\n",
    "        after_close = CITICIndustryIndexClose.loc[date:,industry].iloc[:60].dropna()\n",
    "        if len(before_close)<60 or len(after_close)<60:\n",
    "            continue\n",
    "        hist_increase = before_close.iloc[-1]/before_close.iloc[0]-1\n",
    "        corr = pearsonr(before_close.values.tolist(),after_close.values.tolist())\n",
    "        if pd.isnull(corr):\n",
    "            continue\n",
    "        if hist_increase>=0:\n",
    "            price_group_1.append(corr)\n",
    "        if hist_increase>=0.05:\n",
    "            price_group_2.append(corr)\n",
    "        if hist_increase>=0.10:\n",
    "            price_group_3.append(corr)\n",
    "        if hist_increase>=0.15:\n",
    "            price_group_4.append(corr)\n",
    "        if hist_increase>=0.20:\n",
    "            price_group_5.append(corr)\n",
    "        if hist_increase>=0.25:\n",
    "            price_group_6.append(corr)\n",
    "        if hist_increase>=0.30:\n",
    "            price_group_7.append(corr)\n",
    "        if hist_increase>=0.35:\n",
    "            price_group_8.append(corr)\n",
    "        if hist_increase>=0.40:\n",
    "            price_group_9.append(corr)\n",
    "        if hist_increase>=0.45:\n",
    "            price_group_10.append(corr)\n",
    "        if hist_increase>=0.50:\n",
    "            price_group_11.append(corr)"
   ]
  },
  {
   "cell_type": "code",
   "execution_count": 10,
   "id": "e6680f10",
   "metadata": {
    "ExecuteTime": {
     "end_time": "2022-05-06T00:33:11.355840Z",
     "start_time": "2022-05-06T00:33:11.344825Z"
    }
   },
   "outputs": [],
   "source": [
    "price_groups = [price_group_1,price_group_2,price_group_3,price_group_4,price_group_5,price_group_6,\\\n",
    "                price_group_7,price_group_8,price_group_9,price_group_10,price_group_11]"
   ]
  },
  {
   "cell_type": "code",
   "execution_count": 11,
   "id": "cb7026de",
   "metadata": {
    "ExecuteTime": {
     "end_time": "2022-05-06T00:33:11.435849Z",
     "start_time": "2022-05-06T00:33:11.358814Z"
    }
   },
   "outputs": [
    {
     "name": "stdout",
     "output_type": "stream",
     "text": [
      "0.07691166736498356\n",
      "0.07387843309496676\n",
      "0.06677439258913287\n",
      "0.04533980841256136\n",
      "0.00861018966736228\n",
      "-0.032512324756712396\n",
      "-0.0786154862814475\n",
      "-0.10900769944378483\n",
      "-0.1298737554087665\n",
      "-0.14017004651266868\n",
      "-0.1529634199061295\n"
     ]
    }
   ],
   "source": [
    "for i in price_groups:\n",
    "    corr_avg = np.nanmean(i)\n",
    "    print(corr_avg) # 确实是有研报中的效应了"
   ]
  },
  {
   "cell_type": "markdown",
   "id": "7beed490",
   "metadata": {
    "ExecuteTime": {
     "end_time": "2022-05-05T11:45:09.146703Z",
     "start_time": "2022-05-05T11:45:09.119636Z"
    }
   },
   "source": [
    "#### 3.交易金额拥挤"
   ]
  },
  {
   "cell_type": "code",
   "execution_count": 12,
   "id": "ef996bcc",
   "metadata": {
    "ExecuteTime": {
     "end_time": "2022-05-06T00:33:11.451817Z",
     "start_time": "2022-05-06T00:33:11.437816Z"
    }
   },
   "outputs": [],
   "source": [
    "amount_group_1:list = [] # >0%\n",
    "amount_group_2:list = [] # >5%\n",
    "amount_group_3:list = [] \n",
    "amount_group_4:list = []\n",
    "amount_group_5:list = []\n",
    "amount_group_6:list = []\n",
    "amount_group_7:list = []\n",
    "amount_group_8:list = []\n",
    "amount_group_9:list = []\n",
    "amount_group_10:list = []\n",
    "amount_group_11:list = [] # >50%"
   ]
  },
  {
   "cell_type": "code",
   "execution_count": 13,
   "id": "514efdc3",
   "metadata": {
    "ExecuteTime": {
     "end_time": "2022-05-06T00:34:13.409109Z",
     "start_time": "2022-05-06T00:33:11.454819Z"
    }
   },
   "outputs": [
    {
     "name": "stdout",
     "output_type": "stream",
     "text": [
      "processing CI005001.WI\n",
      "processing CI005002.WI\n",
      "processing CI005004.WI\n",
      "processing CI005008.WI\n",
      "processing CI005010.WI\n",
      "processing CI005009.WI\n",
      "processing CI005007.WI\n",
      "processing CI005006.WI\n",
      "processing CI005005.WI\n",
      "processing CI005003.WI\n",
      "processing CI005027.WI\n",
      "processing CI005028.WI\n",
      "processing CI005026.WI\n",
      "processing CI005025.WI\n",
      "processing CI005024.WI\n",
      "processing CI005023.WI\n",
      "processing CI005021.WI\n",
      "processing CI005020.WI\n",
      "processing CI005019.WI\n",
      "processing CI005018.WI\n",
      "processing CI005017.WI\n",
      "processing CI005016.WI\n",
      "processing CI005015.WI\n",
      "processing CI005014.WI\n",
      "processing CI005013.WI\n",
      "processing CI005012.WI\n",
      "processing CI005011.WI\n",
      "processing CI005259.WI\n",
      "processing CI005166.WI\n",
      "processing CI005165.WI\n"
     ]
    }
   ],
   "source": [
    "# amount\n",
    "for industry in CITICIndustryIndexAmount.columns:\n",
    "    print(f\"processing {industry}\")\n",
    "    for date in CITICIndustryIndexAmount.index:\n",
    "        before_amount = CITICIndustryIndexAmount.loc[:date,industry].iloc[-60:].dropna()\n",
    "        before_close = CITICIndustryIndexClose.loc[:date,industry].iloc[-60:].dropna()\n",
    "        after_close = CITICIndustryIndexClose.loc[date:,industry].iloc[:60].dropna()\n",
    "        if len(before_close)<60 or len(after_close)<60 or len(before_amount)<60:\n",
    "            continue\n",
    "        hist_increase = before_amount.iloc[-1]/before_amount.iloc[0]-1\n",
    "        corr = pearsonr(before_close.values.tolist(),after_close.values.tolist())\n",
    "        if pd.isnull(corr):\n",
    "            continue\n",
    "        if hist_increase>=0:\n",
    "            amount_group_1.append(corr)\n",
    "        if hist_increase>=0.05:\n",
    "            amount_group_2.append(corr)\n",
    "        if hist_increase>=0.10:\n",
    "            amount_group_3.append(corr)\n",
    "        if hist_increase>=0.15:\n",
    "            amount_group_4.append(corr)\n",
    "        if hist_increase>=0.20:\n",
    "            amount_group_5.append(corr)\n",
    "        if hist_increase>=0.25:\n",
    "            amount_group_6.append(corr)\n",
    "        if hist_increase>=0.30:\n",
    "            amount_group_7.append(corr)\n",
    "        if hist_increase>=0.35:\n",
    "            amount_group_8.append(corr)\n",
    "        if hist_increase>=0.40:\n",
    "            amount_group_9.append(corr)\n",
    "        if hist_increase>=0.45:\n",
    "            amount_group_10.append(corr)\n",
    "        if hist_increase>=0.50:\n",
    "            amount_group_11.append(corr)"
   ]
  },
  {
   "cell_type": "code",
   "execution_count": 14,
   "id": "6b37da19",
   "metadata": {
    "ExecuteTime": {
     "end_time": "2022-05-06T00:34:13.424935Z",
     "start_time": "2022-05-06T00:34:13.412940Z"
    }
   },
   "outputs": [],
   "source": [
    "amount_groups = [amount_group_1,amount_group_2,amount_group_3,amount_group_4,amount_group_5,amount_group_6,\\\n",
    "                 amount_group_7,amount_group_8,amount_group_9,amount_group_10,amount_group_11]"
   ]
  },
  {
   "cell_type": "code",
   "execution_count": 15,
   "id": "c4aa60ad",
   "metadata": {
    "ExecuteTime": {
     "end_time": "2022-05-06T00:34:13.568936Z",
     "start_time": "2022-05-06T00:34:13.427935Z"
    }
   },
   "outputs": [
    {
     "name": "stdout",
     "output_type": "stream",
     "text": [
      "0.06969108520129398\n",
      "0.06792722296535572\n",
      "0.06718985397190551\n",
      "0.06584030443946029\n",
      "0.06419233990013382\n",
      "0.06256605616720776\n",
      "0.06051227583532937\n",
      "0.05832559155272195\n",
      "0.05586012353723187\n",
      "0.0532589178011625\n",
      "0.05110114901020159\n"
     ]
    }
   ],
   "source": [
    "for i in amount_groups:\n",
    "    corr_avg = np.nanmean(i)\n",
    "    print(corr_avg) # 确实有递减，但是为什么都是大于0"
   ]
  },
  {
   "cell_type": "code",
   "execution_count": 16,
   "id": "93d37473",
   "metadata": {
    "ExecuteTime": {
     "end_time": "2022-05-06T00:34:13.584935Z",
     "start_time": "2022-05-06T00:34:13.571935Z"
    }
   },
   "outputs": [],
   "source": [
    "amount_group_1:list = [] # >0%\n",
    "amount_group_2:list = [] # >5%\n",
    "amount_group_3:list = [] \n",
    "amount_group_4:list = []\n",
    "amount_group_5:list = []\n",
    "amount_group_6:list = []\n",
    "amount_group_7:list = []\n",
    "amount_group_8:list = []\n",
    "amount_group_9:list = []\n",
    "amount_group_10:list = []\n",
    "amount_group_11:list = [] # >50%"
   ]
  },
  {
   "cell_type": "code",
   "execution_count": 17,
   "id": "55e48ecf",
   "metadata": {
    "ExecuteTime": {
     "end_time": "2022-05-06T00:35:36.139109Z",
     "start_time": "2022-05-06T00:34:13.587937Z"
    }
   },
   "outputs": [
    {
     "name": "stdout",
     "output_type": "stream",
     "text": [
      "processing CI005001.WI\n",
      "processing CI005002.WI\n",
      "processing CI005004.WI\n",
      "processing CI005008.WI\n",
      "processing CI005010.WI\n",
      "processing CI005009.WI\n",
      "processing CI005007.WI\n",
      "processing CI005006.WI\n",
      "processing CI005005.WI\n",
      "processing CI005003.WI\n",
      "processing CI005027.WI\n",
      "processing CI005028.WI\n",
      "processing CI005026.WI\n",
      "processing CI005025.WI\n",
      "processing CI005024.WI\n",
      "processing CI005023.WI\n",
      "processing CI005021.WI\n",
      "processing CI005020.WI\n",
      "processing CI005019.WI\n",
      "processing CI005018.WI\n",
      "processing CI005017.WI\n",
      "processing CI005016.WI\n",
      "processing CI005015.WI\n",
      "processing CI005014.WI\n",
      "processing CI005013.WI\n",
      "processing CI005012.WI\n",
      "processing CI005011.WI\n",
      "processing CI005259.WI\n",
      "processing CI005166.WI\n",
      "processing CI005165.WI\n"
     ]
    }
   ],
   "source": [
    "# amount\n",
    "for industry in CITICIndustryIndexAmount.columns:\n",
    "    print(f\"processing {industry}\")\n",
    "    for date in CITICIndustryIndexAmount.index:\n",
    "        before_amount = CITICIndustryIndexAmount.loc[:date,industry].iloc[-120:-60].dropna()\n",
    "        after_amount = CITICIndustryIndexAmount.loc[:date,industry].iloc[-60:].dropna()\n",
    "        before_close = CITICIndustryIndexClose.loc[:date,industry].iloc[-60:].dropna()\n",
    "        after_close = CITICIndustryIndexClose.loc[date:,industry].iloc[:60].dropna()\n",
    "        if len(before_amount)<60 or len(after_amount)<60 or len(before_close)<60 or len(after_close)<60:\n",
    "            continue\n",
    "        hist_increase = after_amount.sum()/before_amount.sum()-1\n",
    "        corr = pearsonr(before_close.values.tolist(),after_close.values.tolist())\n",
    "        if pd.isnull(corr):\n",
    "            continue\n",
    "        if hist_increase>=0:\n",
    "            amount_group_1.append(corr)\n",
    "        if hist_increase>=0.05:\n",
    "            amount_group_2.append(corr)\n",
    "        if hist_increase>=0.10:\n",
    "            amount_group_3.append(corr)\n",
    "        if hist_increase>=0.15:\n",
    "            amount_group_4.append(corr)\n",
    "        if hist_increase>=0.20:\n",
    "            amount_group_5.append(corr)\n",
    "        if hist_increase>=0.25:\n",
    "            amount_group_6.append(corr)\n",
    "        if hist_increase>=0.30:\n",
    "            amount_group_7.append(corr)\n",
    "        if hist_increase>=0.35:\n",
    "            amount_group_8.append(corr)\n",
    "        if hist_increase>=0.40:\n",
    "            amount_group_9.append(corr)\n",
    "        if hist_increase>=0.45:\n",
    "            amount_group_10.append(corr)\n",
    "        if hist_increase>=0.50:\n",
    "            amount_group_11.append(corr)"
   ]
  },
  {
   "cell_type": "code",
   "execution_count": 18,
   "id": "5202fcb2",
   "metadata": {
    "ExecuteTime": {
     "end_time": "2022-05-06T00:35:36.155106Z",
     "start_time": "2022-05-06T00:35:36.142113Z"
    }
   },
   "outputs": [],
   "source": [
    "amount_groups = [amount_group_1,amount_group_2,amount_group_3,amount_group_4,amount_group_5,amount_group_6,\\\n",
    "                 amount_group_7,amount_group_8,amount_group_9,amount_group_10,amount_group_11]"
   ]
  },
  {
   "cell_type": "code",
   "execution_count": 19,
   "id": "481e5e0a",
   "metadata": {
    "ExecuteTime": {
     "end_time": "2022-05-06T00:35:36.299129Z",
     "start_time": "2022-05-06T00:35:36.158110Z"
    }
   },
   "outputs": [
    {
     "name": "stdout",
     "output_type": "stream",
     "text": [
      "0.08148723128245672\n",
      "0.08075066565438362\n",
      "0.07994611062013826\n",
      "0.07945387273205029\n",
      "0.07805539017238386\n",
      "0.07706192857971839\n",
      "0.07690184806164321\n",
      "0.07654793191969965\n",
      "0.07772446016591308\n",
      "0.07951388730134\n",
      "0.07890435926354303\n"
     ]
    }
   ],
   "source": [
    "for i in amount_groups:\n",
    "    corr_avg = np.nanmean(i)\n",
    "    print(corr_avg) # 确实有递减，但是为什么都是大于0"
   ]
  }
 ],
 "metadata": {
  "kernelspec": {
   "display_name": "Python 3 (ipykernel)",
   "language": "python",
   "name": "python3"
  },
  "language_info": {
   "codemirror_mode": {
    "name": "ipython",
    "version": 3
   },
   "file_extension": ".py",
   "mimetype": "text/x-python",
   "name": "python",
   "nbconvert_exporter": "python",
   "pygments_lexer": "ipython3",
   "version": "3.9.7"
  }
 },
 "nbformat": 4,
 "nbformat_minor": 5
}
